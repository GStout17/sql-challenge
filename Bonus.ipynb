{
 "cells": [
  {
   "cell_type": "code",
   "execution_count": 7,
   "metadata": {},
   "outputs": [
    {
     "name": "stdout",
     "output_type": "stream",
     "text": [
      "Collecting psycopg2\n",
      "  Downloading psycopg2-2.8.6-cp36-cp36m-win_amd64.whl (1.1 MB)\n",
      "Requirement already satisfied: sqlalchemy in c:\\users\\gage\\anaconda3\\envs\\pythondata\\lib\\site-packages (1.3.17)\n",
      "Installing collected packages: psycopg2\n",
      "Successfully installed psycopg2-2.8.6\n"
     ]
    }
   ],
   "source": [
    "!pip install psycopg2 sqlalchemy"
   ]
  },
  {
   "cell_type": "code",
   "execution_count": 9,
   "metadata": {},
   "outputs": [
    {
     "name": "stdout",
     "output_type": "stream",
     "text": [
      "Collecting config\n",
      "  Downloading config-0.5.0.post0-py2.py3-none-any.whl (20 kB)\n",
      "Installing collected packages: config\n",
      "Successfully installed config-0.5.0.post0\n"
     ]
    }
   ],
   "source": []
  },
  {
   "cell_type": "code",
   "execution_count": 31,
   "metadata": {},
   "outputs": [],
   "source": [
    "# Import depedencies\n",
    "\n",
    "# SQL Alchemy\n",
    "from sqlalchemy import create_engine\n",
    "\n",
    "#Psycopg2\n",
    "import psycopg2\n",
    "\n",
    "# Pandas\n",
    "import pandas as pd\n",
    "\n",
    "# Matplotlib\n",
    "import matplotlib.pyplot as plt\n",
    "\n",
    "# NumPy\n",
    "import numpy as np\n"
   ]
  },
  {
   "cell_type": "code",
   "execution_count": 30,
   "metadata": {},
   "outputs": [],
   "source": [
    "engine = create_engine(\n",
    "   #INSERT F STRING HERE (username, password, and db_name has ommited for secruity)\n",
    "    f\"postgresql+psycopg2://USERNAME: INSERT PASSWORD @/DB_NAME?localhost:5432\"\n",
    ")\n",
    "conn = engine.connect()"
   ]
  },
  {
   "cell_type": "code",
   "execution_count": 33,
   "metadata": {},
   "outputs": [],
   "source": [
    "# Reading in our data from tables\n",
    "# Check out pgadmin databases for salary for employees and titles\n",
    "\n",
    "salary = pd.read_sql(\n",
    "                \"select e.emp_no, \\\n",
    "                  first_name, \\\n",
    "                  last_name, \\\n",
    "                  salary, \\\n",
    "                  title, \\\n",
    "                  dept_name \\\n",
    "                from employees e join dept_emp de on e.emp_no = de.emp_no \\\n",
    "                  join departments d on d.dept_no = de.dept_no \\\n",
    "                  join salaries s on s.emp_no = e.emp_no \\\n",
    "                  join titles t on t.title_id = e.emp_title_id\",\n",
    "conn)\n"
   ]
  },
  {
   "cell_type": "code",
   "execution_count": 34,
   "metadata": {},
   "outputs": [
    {
     "data": {
      "text/html": [
       "<div>\n",
       "<style scoped>\n",
       "    .dataframe tbody tr th:only-of-type {\n",
       "        vertical-align: middle;\n",
       "    }\n",
       "\n",
       "    .dataframe tbody tr th {\n",
       "        vertical-align: top;\n",
       "    }\n",
       "\n",
       "    .dataframe thead th {\n",
       "        text-align: right;\n",
       "    }\n",
       "</style>\n",
       "<table border=\"1\" class=\"dataframe\">\n",
       "  <thead>\n",
       "    <tr style=\"text-align: right;\">\n",
       "      <th></th>\n",
       "      <th>emp_no</th>\n",
       "      <th>first_name</th>\n",
       "      <th>last_name</th>\n",
       "      <th>salary</th>\n",
       "      <th>title</th>\n",
       "      <th>dept_name</th>\n",
       "    </tr>\n",
       "  </thead>\n",
       "  <tbody>\n",
       "    <tr>\n",
       "      <th>0</th>\n",
       "      <td>10005</td>\n",
       "      <td>Kyoichi</td>\n",
       "      <td>Maliniak</td>\n",
       "      <td>78228.0</td>\n",
       "      <td>Staff</td>\n",
       "      <td>Human Resources</td>\n",
       "    </tr>\n",
       "    <tr>\n",
       "      <th>1</th>\n",
       "      <td>10010</td>\n",
       "      <td>Duangkaew</td>\n",
       "      <td>Piveteau</td>\n",
       "      <td>72488.0</td>\n",
       "      <td>Engineer</td>\n",
       "      <td>Production</td>\n",
       "    </tr>\n",
       "    <tr>\n",
       "      <th>2</th>\n",
       "      <td>10010</td>\n",
       "      <td>Duangkaew</td>\n",
       "      <td>Piveteau</td>\n",
       "      <td>72488.0</td>\n",
       "      <td>Engineer</td>\n",
       "      <td>Quality Management</td>\n",
       "    </tr>\n",
       "    <tr>\n",
       "      <th>3</th>\n",
       "      <td>10011</td>\n",
       "      <td>Mary</td>\n",
       "      <td>Sluis</td>\n",
       "      <td>42365.0</td>\n",
       "      <td>Staff</td>\n",
       "      <td>Customer Service</td>\n",
       "    </tr>\n",
       "    <tr>\n",
       "      <th>4</th>\n",
       "      <td>10035</td>\n",
       "      <td>Alain</td>\n",
       "      <td>Chappelet</td>\n",
       "      <td>41538.0</td>\n",
       "      <td>Senior Engineer</td>\n",
       "      <td>Production</td>\n",
       "    </tr>\n",
       "  </tbody>\n",
       "</table>\n",
       "</div>"
      ],
      "text/plain": [
       "   emp_no first_name  last_name   salary            title           dept_name\n",
       "0   10005    Kyoichi   Maliniak  78228.0            Staff     Human Resources\n",
       "1   10010  Duangkaew   Piveteau  72488.0         Engineer          Production\n",
       "2   10010  Duangkaew   Piveteau  72488.0         Engineer  Quality Management\n",
       "3   10011       Mary      Sluis  42365.0            Staff    Customer Service\n",
       "4   10035      Alain  Chappelet  41538.0  Senior Engineer          Production"
      ]
     },
     "execution_count": 34,
     "metadata": {},
     "output_type": "execute_result"
    }
   ],
   "source": [
    "#checking/displaying data\n",
    "salary_data.head()"
   ]
  },
  {
   "cell_type": "code",
   "execution_count": 45,
   "metadata": {
    "scrolled": true
   },
   "outputs": [
    {
     "data": {
      "image/png": "[encoded data removed]",
      "text/plain": [
       "<Figure size 432x288 with 1 Axes>"
      ]
     },
     "metadata": {
      "needs_background": "light"
     },
     "output_type": "display_data"
    }
   ],
   "source": [
    "# Create a histogram to visualize the most common salary ranges for employees\n",
    "salaries = salary_data['salary']\n",
    "salary_hist = salaries.plot.hist(bins = 10, title = \"Range of Employee Salaries\", color = 'purple')\n",
    "salary_hist.set_xlabel(\"Salary\")\n",
    "\n",
    "#Save figure\n",
    "employee_salary_fig = salary_hist.get_figure()\n",
    "employee_salary_fig.savefig(\"Salary-Histogram.png\")"
   ]
  },
  {
   "cell_type": "markdown",
   "metadata": {},
   "source": [
    "## The common salary ranges for employee's is heavily skewed. The typical range is around 40 to 50k"
   ]
  },
  {
   "cell_type": "code",
   "execution_count": 46,
   "metadata": {},
   "outputs": [
    {
     "data": {
      "text/html": [
       "<div>\n",
       "<style scoped>\n",
       "    .dataframe tbody tr th:only-of-type {\n",
       "        vertical-align: middle;\n",
       "    }\n",
       "\n",
       "    .dataframe tbody tr th {\n",
       "        vertical-align: top;\n",
       "    }\n",
       "\n",
       "    .dataframe thead th {\n",
       "        text-align: right;\n",
       "    }\n",
       "</style>\n",
       "<table border=\"1\" class=\"dataframe\">\n",
       "  <thead>\n",
       "    <tr style=\"text-align: right;\">\n",
       "      <th></th>\n",
       "      <th>salary</th>\n",
       "    </tr>\n",
       "    <tr>\n",
       "      <th>title</th>\n",
       "      <th></th>\n",
       "    </tr>\n",
       "  </thead>\n",
       "  <tbody>\n",
       "    <tr>\n",
       "      <th>Senior Engineer</th>\n",
       "      <td>48505.714313</td>\n",
       "    </tr>\n",
       "    <tr>\n",
       "      <th>Engineer</th>\n",
       "      <td>48533.339845</td>\n",
       "    </tr>\n",
       "    <tr>\n",
       "      <th>Technique Leader</th>\n",
       "      <td>48574.320997</td>\n",
       "    </tr>\n",
       "    <tr>\n",
       "      <th>Assistant Engineer</th>\n",
       "      <td>48615.074794</td>\n",
       "    </tr>\n",
       "    <tr>\n",
       "      <th>Manager</th>\n",
       "      <td>51531.041667</td>\n",
       "    </tr>\n",
       "    <tr>\n",
       "      <th>Staff</th>\n",
       "      <td>58460.049489</td>\n",
       "    </tr>\n",
       "    <tr>\n",
       "      <th>Senior Staff</th>\n",
       "      <td>58557.394072</td>\n",
       "    </tr>\n",
       "  </tbody>\n",
       "</table>\n",
       "</div>"
      ],
      "text/plain": [
       "                          salary\n",
       "title                           \n",
       "Senior Engineer     48505.714313\n",
       "Engineer            48533.339845\n",
       "Technique Leader    48574.320997\n",
       "Assistant Engineer  48615.074794\n",
       "Manager             51531.041667\n",
       "Staff               58460.049489\n",
       "Senior Staff        58557.394072"
      ]
     },
     "execution_count": 46,
     "metadata": {},
     "output_type": "execute_result"
    }
   ],
   "source": [
    "# Create a bar chart of average salary by title\n",
    "# Creat group by function for title/salary\n",
    "# Grab mean for average\n",
    "AVG_Salary_title = pd.DataFrame(salary_data.groupby('title')['salary'].mean())\n",
    "AVG_Salary_title = AVG_Salary_title.sort_values('salary',ascending=True)\n",
    "AVG_Salary_title"
   ]
  },
  {
   "cell_type": "code",
   "execution_count": 58,
   "metadata": {},
   "outputs": [
    {
     "data": {
      "image/png": "[encoded data removed]",
      "text/plain": [
       "<Figure size 432x288 with 1 Axes>"
      ]
     },
     "metadata": {
      "needs_background": "light"
     },
     "output_type": "display_data"
    }
   ],
   "source": [
    "# create the bar chart for avg salary by title\n",
    "\n",
    "avg_salary_bar = AVG_Salary_title.plot.bar(title = 'Average Salary By Job Position',legend=False, color = 'purple')\n",
    "avg_salary_bar.set_xlabel(\"\")\n",
    "avg_salary_bar.set_ylabel(\"Average Salary\")\n",
    "\n",
    "# Save barchart\n",
    "avg_salary_bar_fig = avg_salary_bar.get_figure()\n",
    "avg_salary_bar_fig.savefig(\"Avgerage Salary by title.png\")"
   ]
  },
  {
   "cell_type": "markdown",
   "metadata": {},
   "source": [
    "## Histrogram shows that staff and senior staff have a higher average salary compared to the other job positions"
   ]
  },
  {
   "cell_type": "code",
   "execution_count": null,
   "metadata": {},
   "outputs": [],
   "source": []
  }
 ],
 "metadata": {
  "kernelspec": {
   "display_name": "Python 3",
   "language": "python",
   "name": "python3"
  },
  "language_info": {
   "codemirror_mode": {
    "name": "ipython",
    "version": 3
   },
   "file_extension": ".py",
   "mimetype": "text/x-python",
   "name": "python",
   "nbconvert_exporter": "python",
   "pygments_lexer": "ipython3",
   "version": "3.6.10"
  }
 },
 "nbformat": 4,
 "nbformat_minor": 4
}
